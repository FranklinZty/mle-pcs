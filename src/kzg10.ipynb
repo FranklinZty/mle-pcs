{
 "cells": [
  {
   "cell_type": "code",
   "execution_count": 2,
   "metadata": {},
   "outputs": [],
   "source": [
    "from group import DummyGroup\n",
    "from utils import log_2, pow_2\n",
    "from unipolynomial import UniPolynomial\n",
    "from mle2 import MLEPolynomial\n",
    "from kzg10 import Commitment, KZG10Commitment"
   ]
  },
  {
   "cell_type": "code",
   "execution_count": 3,
   "metadata": {},
   "outputs": [
    {
     "data": {
      "text/plain": [
       "(Finite Field of size 193, Finite Field in b of size 193^2)"
      ]
     },
     "execution_count": 3,
     "metadata": {},
     "output_type": "execute_result"
    }
   ],
   "source": [
    "F193.<a> = GF(193)\n",
    "R193.<X> = F193[]\n",
    "R193\n",
    "Fp=F193\n",
    "Fp2 = Fp.extension(2, 'b')\n",
    "Fp, Fp2"
   ]
  },
  {
   "cell_type": "code",
   "execution_count": 4,
   "metadata": {},
   "outputs": [
    {
     "data": {
      "text/plain": [
       "Multivariate Polynomial Ring in X0, X1, X2, X3, X4, X5, X6, X7, X8, X9, Y0, Y1, Y2, Y3, Y4, Y5, Y6, Y7, A0, A1, A2, B0, B1, B2 over Finite Field of size 193"
      ]
     },
     "execution_count": 4,
     "metadata": {},
     "output_type": "execute_result"
    }
   ],
   "source": [
    "R_2.<X0, X1, X2, X3, X4, X5, X6, X7, X8, X9, Y0, Y1, Y2, Y3, Y4, Y5, Y6, Y7, A0, A1, A2, B0, B1, B2> = Fp[]; R_2"
   ]
  },
  {
   "cell_type": "code",
   "execution_count": 5,
   "metadata": {},
   "outputs": [],
   "source": [
    "G1 = DummyGroup(Fp)\n",
    "G2 = DummyGroup(Fp2)"
   ]
  },
  {
   "cell_type": "code",
   "execution_count": 6,
   "metadata": {},
   "outputs": [],
   "source": [
    "UniPolynomial.set_scalar(Fp(0), Fp)\n",
    "Commitment.set_scalar(Fp(0))"
   ]
  },
  {
   "cell_type": "code",
   "execution_count": 7,
   "metadata": {},
   "outputs": [
    {
     "name": "stdout",
     "output_type": "stream",
     "text": [
      "Commitment(X0^3 + 2*X0^2 + 3*X0 + 2)\n"
     ]
    }
   ],
   "source": [
    "f = UniPolynomial([2, 3, 2, 1])\n",
    "kzg10 = KZG10Commitment(G1, G2, 10)\n",
    "kzg10.setup(secret_symbol=X0, g1_generator=1, g2_generator=1)\n",
    "f_cm = kzg10.commit([2, 3, 2, 1])\n",
    "print(f_cm)"
   ]
  },
  {
   "cell_type": "code",
   "execution_count": 8,
   "metadata": {},
   "outputs": [
    {
     "data": {
      "text/plain": [
       "True"
      ]
     },
     "execution_count": 8,
     "metadata": {},
     "output_type": "execute_result"
    }
   ],
   "source": [
    "f.evaluate(1) == 8"
   ]
  },
  {
   "cell_type": "code",
   "execution_count": 9,
   "metadata": {},
   "outputs": [],
   "source": [
    "prf = kzg10.prove_eval_and_degree(f_cm, f.coeffs, 1, 8, 4)"
   ]
  },
  {
   "cell_type": "code",
   "execution_count": 10,
   "metadata": {},
   "outputs": [
    {
     "data": {
      "text/plain": [
       "True"
      ]
     },
     "execution_count": 10,
     "metadata": {},
     "output_type": "execute_result"
    }
   ],
   "source": [
    "kzg10.verify_eval_and_degree(f_cm, prf, 1, 8, 4)"
   ]
  }
 ],
 "metadata": {
  "kernelspec": {
   "display_name": "SageMath 10.4",
   "language": "sage",
   "name": "sagemath-10.4"
  },
  "language_info": {
   "codemirror_mode": {
    "name": "ipython",
    "version": 3
   },
   "file_extension": ".py",
   "mimetype": "text/x-python",
   "name": "python",
   "nbconvert_exporter": "python",
   "pygments_lexer": "ipython3",
   "version": "3.12.4"
  }
 },
 "nbformat": 4,
 "nbformat_minor": 2
}
